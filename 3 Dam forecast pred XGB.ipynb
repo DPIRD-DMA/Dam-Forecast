{
 "cells": [
  {
   "cell_type": "code",
   "execution_count": 4,
   "id": "0cbb1513",
   "metadata": {},
   "outputs": [],
   "source": [
    "from sklearn.metrics import mean_absolute_error\n",
    "from xgboost import XGBRegressor\n",
    "import pandas as pd\n",
    "import pickle\n",
    "import glob\n",
    "from tqdm.auto import tqdm\n",
    "import os\n",
    "from datetime import datetime\n",
    "import json"
   ]
  },
  {
   "cell_type": "code",
   "execution_count": 5,
   "id": "af69a5ec",
   "metadata": {},
   "outputs": [
    {
     "data": {
      "text/plain": [
       "('found model?', True)"
      ]
     },
     "execution_count": 5,
     "metadata": {},
     "output_type": "execute_result"
    }
   ],
   "source": [
    "# point this at the folder full of csv files from the extraction script\n",
    "tile_step_folder = '/mnt/2TB Working/Projects/Dam forecast/v4/forecast/time steps'\n",
    "# the output location for this script\n",
    "output_folder = '/mnt/2TB Working/Projects/Dam forecast/v4/forecast/preds'\n",
    "# location of model file\n",
    "model_folder = '/mnt/2TB Working/Projects/Dam forecast/v4'\n",
    "model_name = 'dam_forecast_23-11-21.pkl'\n",
    "model_path = os.path.join(model_folder,model_name)\n",
    "'found model?',os.path.isfile(model_path)"
   ]
  },
  {
   "cell_type": "code",
   "execution_count": 6,
   "id": "2e645d99",
   "metadata": {},
   "outputs": [],
   "source": [
    "# load in data from meta file\n",
    "with open(model_path.replace('.pkl','.json'), 'r') as fp:\n",
    "    meta_dict = json.load(fp)"
   ]
  },
  {
   "cell_type": "code",
   "execution_count": 5,
   "id": "54174168",
   "metadata": {},
   "outputs": [],
   "source": [
    "# load up model\n",
    "xgb_reg_model = pickle.load(open(model_path, \"rb\"))"
   ]
  },
  {
   "cell_type": "code",
   "execution_count": 6,
   "id": "ac65a52d",
   "metadata": {},
   "outputs": [
    {
     "data": {
      "text/plain": [
       "120"
      ]
     },
     "execution_count": 6,
     "metadata": {},
     "output_type": "execute_result"
    }
   ],
   "source": [
    "# get a refence to each csv file\n",
    "time_steps = glob.glob(tile_step_folder+'/*.csv')\n",
    "len(time_steps)"
   ]
  },
  {
   "cell_type": "code",
   "execution_count": 7,
   "id": "0da1305a",
   "metadata": {},
   "outputs": [],
   "source": [
    "# work out which cols we need to remove, other the model wont know whats happening\n",
    "cols_to_keep = meta_dict['col_names']\n",
    "ts_df = pd.read_csv(time_steps[0])\n",
    "drop_cols = []\n",
    "for col in ts_df.columns:\n",
    "    if col not in cols_to_keep:\n",
    "        drop_cols.append(col)"
   ]
  },
  {
   "cell_type": "code",
   "execution_count": 8,
   "id": "8e6fc5ea",
   "metadata": {},
   "outputs": [
    {
     "data": {
      "application/vnd.jupyter.widget-view+json": {
       "model_id": "aca4a188d72b4e05bb8667effa1d743f",
       "version_major": 2,
       "version_minor": 0
      },
      "text/plain": [
       "  0%|          | 0/120 [00:00<?, ?it/s]"
      ]
     },
     "metadata": {},
     "output_type": "display_data"
    }
   ],
   "source": [
    "# loop over each csv file and run model\n",
    "for time_step in tqdm(time_steps):\n",
    "#     read csv file\n",
    "    full_ts_df = pd.read_csv(time_step)\n",
    "#     drop cols we dont need\n",
    "    ts_df = full_ts_df.drop(columns=drop_cols)\n",
    "#     make sure the cols are in the same order as when it was trained\n",
    "    ts_df = ts_df.reindex(sorted(ts_df.columns), axis=1)\n",
    "#     run model\n",
    "    preds = xgb_reg_model.predict(ts_df)\n",
    "        \n",
    "#     grab the filename which should also tell us the date\n",
    "    file_name = os.path.basename(time_step)\n",
    "    date = file_name.replace('.csv','')    \n",
    "#     make a new df with just files names as a reference\n",
    "    limited_df = full_ts_df[['file_name']].copy()\n",
    "#     place the preds into the new df\n",
    "    limited_df[date] = preds\n",
    "#     save the df out to disk\n",
    "    csv_out_path = os.path.join(output_folder,file_name)\n",
    "    limited_df.to_csv(csv_out_path)\n",
    "    "
   ]
  },
  {
   "cell_type": "code",
   "execution_count": 9,
   "id": "c7358756",
   "metadata": {},
   "outputs": [
    {
     "data": {
      "text/plain": [
       "120"
      ]
     },
     "execution_count": 9,
     "metadata": {},
     "output_type": "execute_result"
    }
   ],
   "source": [
    "# get a list of all prediction files\n",
    "outputs_csvs = glob.glob(output_folder+'/*.csv')\n",
    "len(outputs_csvs)"
   ]
  },
  {
   "cell_type": "code",
   "execution_count": 10,
   "id": "1c4a5da7",
   "metadata": {},
   "outputs": [
    {
     "data": {
      "text/html": [
       "<div>\n",
       "<style scoped>\n",
       "    .dataframe tbody tr th:only-of-type {\n",
       "        vertical-align: middle;\n",
       "    }\n",
       "\n",
       "    .dataframe tbody tr th {\n",
       "        vertical-align: top;\n",
       "    }\n",
       "\n",
       "    .dataframe thead th {\n",
       "        text-align: right;\n",
       "    }\n",
       "</style>\n",
       "<table border=\"1\" class=\"dataframe\">\n",
       "  <thead>\n",
       "    <tr style=\"text-align: right;\">\n",
       "      <th></th>\n",
       "      <th>file_name</th>\n",
       "      <th>area</th>\n",
       "      <th>area_2</th>\n",
       "      <th>SRC_DATE</th>\n",
       "      <th>file_name_pred</th>\n",
       "      <th>class</th>\n",
       "      <th>class_name</th>\n",
       "      <th>geometry</th>\n",
       "    </tr>\n",
       "  </thead>\n",
       "  <tbody>\n",
       "    <tr>\n",
       "      <th>0</th>\n",
       "      <td>arcgisonline_1686584.tif</td>\n",
       "      <td>1472.265188</td>\n",
       "      <td>293.852789</td>\n",
       "      <td>20160217.0</td>\n",
       "      <td>arcgisonline_1686584_pred_and_score.tif</td>\n",
       "      <td>0</td>\n",
       "      <td>dam and water</td>\n",
       "      <td>POINT (121.8136426111555 -33.00994748470646)</td>\n",
       "    </tr>\n",
       "    <tr>\n",
       "      <th>1</th>\n",
       "      <td>arcgisonline_1686963.tif</td>\n",
       "      <td>3511.531725</td>\n",
       "      <td>1348.727385</td>\n",
       "      <td>20150121.0</td>\n",
       "      <td>arcgisonline_1686963_pred_and_score.tif</td>\n",
       "      <td>0</td>\n",
       "      <td>dam and water</td>\n",
       "      <td>POINT (121.5687803560598 -33.11646584652933)</td>\n",
       "    </tr>\n",
       "    <tr>\n",
       "      <th>2</th>\n",
       "      <td>arcgisonline_437392.tif</td>\n",
       "      <td>7400.931025</td>\n",
       "      <td>NaN</td>\n",
       "      <td>20161230.0</td>\n",
       "      <td>arcgisonline_437392_pred_and_score.tif</td>\n",
       "      <td>2</td>\n",
       "      <td>no water</td>\n",
       "      <td>POINT (147.1971736181173 -29.86992984418018)</td>\n",
       "    </tr>\n",
       "    <tr>\n",
       "      <th>3</th>\n",
       "      <td>arcgisonline_1747284.tif</td>\n",
       "      <td>2925.907475</td>\n",
       "      <td>2924.952538</td>\n",
       "      <td>20160302.0</td>\n",
       "      <td>arcgisonline_1747284_pred_and_score.tif</td>\n",
       "      <td>1</td>\n",
       "      <td>no dam</td>\n",
       "      <td>POINT (147.4819841980934 -42.99338319262259)</td>\n",
       "    </tr>\n",
       "    <tr>\n",
       "      <th>4</th>\n",
       "      <td>arcgisonline_411890.tif</td>\n",
       "      <td>5270.397670</td>\n",
       "      <td>15.310323</td>\n",
       "      <td>20150315.0</td>\n",
       "      <td>arcgisonline_411890_pred_and_score.tif</td>\n",
       "      <td>2</td>\n",
       "      <td>no water</td>\n",
       "      <td>POINT (144.992580889845 -34.25548900296211)</td>\n",
       "    </tr>\n",
       "  </tbody>\n",
       "</table>\n",
       "</div>"
      ],
      "text/plain": [
       "                  file_name         area       area_2    SRC_DATE  \\\n",
       "0  arcgisonline_1686584.tif  1472.265188   293.852789  20160217.0   \n",
       "1  arcgisonline_1686963.tif  3511.531725  1348.727385  20150121.0   \n",
       "2   arcgisonline_437392.tif  7400.931025          NaN  20161230.0   \n",
       "3  arcgisonline_1747284.tif  2925.907475  2924.952538  20160302.0   \n",
       "4   arcgisonline_411890.tif  5270.397670    15.310323  20150315.0   \n",
       "\n",
       "                            file_name_pred  class     class_name  \\\n",
       "0  arcgisonline_1686584_pred_and_score.tif      0  dam and water   \n",
       "1  arcgisonline_1686963_pred_and_score.tif      0  dam and water   \n",
       "2   arcgisonline_437392_pred_and_score.tif      2       no water   \n",
       "3  arcgisonline_1747284_pred_and_score.tif      1         no dam   \n",
       "4   arcgisonline_411890_pred_and_score.tif      2       no water   \n",
       "\n",
       "                                       geometry  \n",
       "0  POINT (121.8136426111555 -33.00994748470646)  \n",
       "1  POINT (121.5687803560598 -33.11646584652933)  \n",
       "2  POINT (147.1971736181173 -29.86992984418018)  \n",
       "3  POINT (147.4819841980934 -42.99338319262259)  \n",
       "4   POINT (144.992580889845 -34.25548900296211)  "
      ]
     },
     "execution_count": 10,
     "metadata": {},
     "output_type": "execute_result"
    }
   ],
   "source": [
    "# open one input csv and read the non weather data\n",
    "base_data = pd.read_csv(time_steps[0])\n",
    "drop_list = []\n",
    "for col in base_data.columns:\n",
    "    if 'before' in col:\n",
    "        drop_list.append(col)\n",
    "    if 'Unnamed' in col:\n",
    "        drop_list.append(col)\n",
    "        \n",
    "base_data = base_data.drop(columns=drop_list)\n",
    "base_data.head()"
   ]
  },
  {
   "cell_type": "code",
   "execution_count": 11,
   "id": "064470b3",
   "metadata": {},
   "outputs": [
    {
     "data": {
      "application/vnd.jupyter.widget-view+json": {
       "model_id": "0cc75dc5a3b94a39a776c1137f70cf1a",
       "version_major": 2,
       "version_minor": 0
      },
      "text/plain": [
       "  0%|          | 0/120 [00:00<?, ?it/s]"
      ]
     },
     "metadata": {},
     "output_type": "display_data"
    },
    {
     "name": "stderr",
     "output_type": "stream",
     "text": [
      "/home/nick/anaconda3/envs/XGB/lib/python3.7/site-packages/ipykernel_launcher.py:16: PerformanceWarning: DataFrame is highly fragmented.  This is usually the result of calling `frame.insert` many times, which has poor performance.  Consider joining all columns at once using pd.concat(axis=1) instead.  To get a de-fragmented frame, use `newframe = frame.copy()`\n",
      "  app.launch_new_instance()\n"
     ]
    }
   ],
   "source": [
    "# make empty df to load preds into, we need to keep this separate from the base data we we can sort it by date \n",
    "preds_df = pd.DataFrame()\n",
    "# loop over each pred csv\n",
    "for csv in tqdm(outputs_csvs):\n",
    "#     get the file name\n",
    "    file_name = os.path.basename(csv)\n",
    "#     get the date from the name\n",
    "    date = file_name.replace('.csv','')\n",
    "#     open file\n",
    "    current_df = pd.read_csv(csv)\n",
    "#     extract the preds col\n",
    "    preds = current_df[date].to_list()\n",
    "#     name date a proper python date\n",
    "    date_fixed = datetime.strptime(date, '%Y-%m')\n",
    "#     load preds into main df\n",
    "    preds_df[date_fixed] = preds\n",
    "# sort the cols by date\n",
    "preds_df = preds_df[sorted(preds_df.columns)]"
   ]
  },
  {
   "cell_type": "code",
   "execution_count": 12,
   "id": "ca6861c1",
   "metadata": {},
   "outputs": [
    {
     "data": {
      "text/html": [
       "<div>\n",
       "<style scoped>\n",
       "    .dataframe tbody tr th:only-of-type {\n",
       "        vertical-align: middle;\n",
       "    }\n",
       "\n",
       "    .dataframe tbody tr th {\n",
       "        vertical-align: top;\n",
       "    }\n",
       "\n",
       "    .dataframe thead th {\n",
       "        text-align: right;\n",
       "    }\n",
       "</style>\n",
       "<table border=\"1\" class=\"dataframe\">\n",
       "  <thead>\n",
       "    <tr style=\"text-align: right;\">\n",
       "      <th></th>\n",
       "      <th>2011-01-01</th>\n",
       "      <th>2011-02-01</th>\n",
       "      <th>2011-03-01</th>\n",
       "      <th>2011-04-01</th>\n",
       "      <th>2011-05-01</th>\n",
       "      <th>2011-06-01</th>\n",
       "      <th>2011-07-01</th>\n",
       "      <th>2011-08-01</th>\n",
       "      <th>2011-09-01</th>\n",
       "      <th>2011-10-01</th>\n",
       "      <th>...</th>\n",
       "      <th>2020-03-01</th>\n",
       "      <th>2020-04-01</th>\n",
       "      <th>2020-05-01</th>\n",
       "      <th>2020-06-01</th>\n",
       "      <th>2020-07-01</th>\n",
       "      <th>2020-08-01</th>\n",
       "      <th>2020-09-01</th>\n",
       "      <th>2020-10-01</th>\n",
       "      <th>2020-11-01</th>\n",
       "      <th>2020-12-01</th>\n",
       "    </tr>\n",
       "  </thead>\n",
       "  <tbody>\n",
       "    <tr>\n",
       "      <th>0</th>\n",
       "      <td>110.85137</td>\n",
       "      <td>158.93771</td>\n",
       "      <td>135.37556</td>\n",
       "      <td>174.14394</td>\n",
       "      <td>248.0782</td>\n",
       "      <td>251.61627</td>\n",
       "      <td>160.77977</td>\n",
       "      <td>170.73775</td>\n",
       "      <td>128.36656</td>\n",
       "      <td>272.68427</td>\n",
       "      <td>...</td>\n",
       "      <td>112.95490</td>\n",
       "      <td>147.74187</td>\n",
       "      <td>158.13924</td>\n",
       "      <td>48.90754</td>\n",
       "      <td>251.98740</td>\n",
       "      <td>254.27902</td>\n",
       "      <td>229.15556</td>\n",
       "      <td>249.95795</td>\n",
       "      <td>130.49240</td>\n",
       "      <td>279.4671</td>\n",
       "    </tr>\n",
       "    <tr>\n",
       "      <th>1</th>\n",
       "      <td>986.49870</td>\n",
       "      <td>1004.31180</td>\n",
       "      <td>783.42780</td>\n",
       "      <td>840.63550</td>\n",
       "      <td>637.3890</td>\n",
       "      <td>687.73334</td>\n",
       "      <td>689.98193</td>\n",
       "      <td>913.81793</td>\n",
       "      <td>883.18800</td>\n",
       "      <td>1061.05040</td>\n",
       "      <td>...</td>\n",
       "      <td>660.58887</td>\n",
       "      <td>557.06476</td>\n",
       "      <td>1121.68970</td>\n",
       "      <td>729.68520</td>\n",
       "      <td>679.86444</td>\n",
       "      <td>717.40550</td>\n",
       "      <td>658.72125</td>\n",
       "      <td>723.23830</td>\n",
       "      <td>750.75574</td>\n",
       "      <td>641.2314</td>\n",
       "    </tr>\n",
       "    <tr>\n",
       "      <th>2</th>\n",
       "      <td>3771.77700</td>\n",
       "      <td>4333.30960</td>\n",
       "      <td>4195.49850</td>\n",
       "      <td>3063.50370</td>\n",
       "      <td>4462.9375</td>\n",
       "      <td>4086.76730</td>\n",
       "      <td>4482.80500</td>\n",
       "      <td>3314.65200</td>\n",
       "      <td>3450.30790</td>\n",
       "      <td>2962.83500</td>\n",
       "      <td>...</td>\n",
       "      <td>2262.51440</td>\n",
       "      <td>3125.91900</td>\n",
       "      <td>3401.70870</td>\n",
       "      <td>3969.80370</td>\n",
       "      <td>3402.16060</td>\n",
       "      <td>2814.84160</td>\n",
       "      <td>2916.50300</td>\n",
       "      <td>1241.27650</td>\n",
       "      <td>2473.93000</td>\n",
       "      <td>2293.2986</td>\n",
       "    </tr>\n",
       "    <tr>\n",
       "      <th>3</th>\n",
       "      <td>1610.13540</td>\n",
       "      <td>1557.64210</td>\n",
       "      <td>1653.89160</td>\n",
       "      <td>1685.15500</td>\n",
       "      <td>1587.2556</td>\n",
       "      <td>1650.95810</td>\n",
       "      <td>1792.34480</td>\n",
       "      <td>1799.76510</td>\n",
       "      <td>1432.66430</td>\n",
       "      <td>1551.19320</td>\n",
       "      <td>...</td>\n",
       "      <td>1036.57710</td>\n",
       "      <td>874.47640</td>\n",
       "      <td>1293.28520</td>\n",
       "      <td>1353.58220</td>\n",
       "      <td>1298.91880</td>\n",
       "      <td>1603.86940</td>\n",
       "      <td>1323.47350</td>\n",
       "      <td>1740.52890</td>\n",
       "      <td>1773.83690</td>\n",
       "      <td>1794.5408</td>\n",
       "    </tr>\n",
       "    <tr>\n",
       "      <th>4</th>\n",
       "      <td>3298.70120</td>\n",
       "      <td>3308.74500</td>\n",
       "      <td>3177.32230</td>\n",
       "      <td>3302.80860</td>\n",
       "      <td>2992.1250</td>\n",
       "      <td>2418.55660</td>\n",
       "      <td>2799.33670</td>\n",
       "      <td>2801.64900</td>\n",
       "      <td>2754.41360</td>\n",
       "      <td>2269.65820</td>\n",
       "      <td>...</td>\n",
       "      <td>1143.66580</td>\n",
       "      <td>1918.07070</td>\n",
       "      <td>1957.53260</td>\n",
       "      <td>1832.51100</td>\n",
       "      <td>1462.47900</td>\n",
       "      <td>2087.66240</td>\n",
       "      <td>2190.70700</td>\n",
       "      <td>1690.84410</td>\n",
       "      <td>1627.62730</td>\n",
       "      <td>1221.1123</td>\n",
       "    </tr>\n",
       "  </tbody>\n",
       "</table>\n",
       "<p>5 rows × 120 columns</p>\n",
       "</div>"
      ],
      "text/plain": [
       "   2011-01-01  2011-02-01  2011-03-01  2011-04-01  2011-05-01  2011-06-01  \\\n",
       "0   110.85137   158.93771   135.37556   174.14394    248.0782   251.61627   \n",
       "1   986.49870  1004.31180   783.42780   840.63550    637.3890   687.73334   \n",
       "2  3771.77700  4333.30960  4195.49850  3063.50370   4462.9375  4086.76730   \n",
       "3  1610.13540  1557.64210  1653.89160  1685.15500   1587.2556  1650.95810   \n",
       "4  3298.70120  3308.74500  3177.32230  3302.80860   2992.1250  2418.55660   \n",
       "\n",
       "   2011-07-01  2011-08-01  2011-09-01  2011-10-01  ...  2020-03-01  \\\n",
       "0   160.77977   170.73775   128.36656   272.68427  ...   112.95490   \n",
       "1   689.98193   913.81793   883.18800  1061.05040  ...   660.58887   \n",
       "2  4482.80500  3314.65200  3450.30790  2962.83500  ...  2262.51440   \n",
       "3  1792.34480  1799.76510  1432.66430  1551.19320  ...  1036.57710   \n",
       "4  2799.33670  2801.64900  2754.41360  2269.65820  ...  1143.66580   \n",
       "\n",
       "   2020-04-01  2020-05-01  2020-06-01  2020-07-01  2020-08-01  2020-09-01  \\\n",
       "0   147.74187   158.13924    48.90754   251.98740   254.27902   229.15556   \n",
       "1   557.06476  1121.68970   729.68520   679.86444   717.40550   658.72125   \n",
       "2  3125.91900  3401.70870  3969.80370  3402.16060  2814.84160  2916.50300   \n",
       "3   874.47640  1293.28520  1353.58220  1298.91880  1603.86940  1323.47350   \n",
       "4  1918.07070  1957.53260  1832.51100  1462.47900  2087.66240  2190.70700   \n",
       "\n",
       "   2020-10-01  2020-11-01  2020-12-01  \n",
       "0   249.95795   130.49240    279.4671  \n",
       "1   723.23830   750.75574    641.2314  \n",
       "2  1241.27650  2473.93000   2293.2986  \n",
       "3  1740.52890  1773.83690   1794.5408  \n",
       "4  1690.84410  1627.62730   1221.1123  \n",
       "\n",
       "[5 rows x 120 columns]"
      ]
     },
     "execution_count": 12,
     "metadata": {},
     "output_type": "execute_result"
    }
   ],
   "source": [
    "# have a look at the df and make sure it looks good\n",
    "preds_df.head()"
   ]
  },
  {
   "cell_type": "code",
   "execution_count": 13,
   "id": "0bfd65bf",
   "metadata": {},
   "outputs": [],
   "source": [
    "# join the base data with the preds\n",
    "preds_with_meta = pd.concat([base_data, preds_df], axis=1)"
   ]
  },
  {
   "cell_type": "code",
   "execution_count": 14,
   "id": "02c0774b",
   "metadata": {},
   "outputs": [],
   "source": [
    "# export out to csv file\n",
    "final_export = os.path.join(output_folder,'full preds.csv')\n",
    "preds_with_meta.to_csv(final_export)"
   ]
  },
  {
   "cell_type": "code",
   "execution_count": null,
   "id": "97d3685d",
   "metadata": {},
   "outputs": [],
   "source": []
  }
 ],
 "metadata": {
  "kernelspec": {
   "display_name": "Python 3 (ipykernel)",
   "language": "python",
   "name": "python3"
  },
  "language_info": {
   "codemirror_mode": {
    "name": "ipython",
    "version": 3
   },
   "file_extension": ".py",
   "mimetype": "text/x-python",
   "name": "python",
   "nbconvert_exporter": "python",
   "pygments_lexer": "ipython3",
   "version": "3.7.11"
  }
 },
 "nbformat": 4,
 "nbformat_minor": 5
}
